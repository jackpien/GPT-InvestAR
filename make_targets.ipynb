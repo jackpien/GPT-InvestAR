{
 "cells": [
  {
   "cell_type": "code",
   "execution_count": 1,
   "metadata": {},
   "outputs": [
    {
     "name": "stdout",
     "output_type": "stream",
     "text": [
      "\u001b[91mlibwebkit2gtk-4.0.so.37: cannot open shared object file: No such file or directory\u001b[0m\n"
     ]
    },
    {
     "name": "stderr",
     "output_type": "stream",
     "text": [
      "INFO:openbb_terminal.cryptocurrency.onchain.bitquery_model:START\n",
      "INFO:openbb_terminal.cryptocurrency.onchain.bitquery_model:END\n"
     ]
    },
    {
     "data": {
      "text/html": [
       "<pre style=\"white-space:pre;overflow-x:auto;line-height:normal;font-family:Menlo,'DejaVu Sans Mono',consolas,'Courier New',monospace\"><span style=\"color: #808000; text-decoration-color: #808000\">Forecasting Toolkit is disabled. To use the Forecasting features please install the toolkit following the instructions here: https://my.openbb.co/app/sdk/installation</span>\n",
       "\n",
       "</pre>\n"
      ],
      "text/plain": [
       "\u001b[33mForecasting Toolkit is disabled. To use the Forecasting features please install the toolkit following the instructions here: https://my.openbb.co/app/sdk/installation\u001b[0m\n",
       "\n"
      ]
     },
     "metadata": {},
     "output_type": "display_data"
    },
    {
     "data": {
      "text/html": [
       "<pre style=\"white-space:pre;overflow-x:auto;line-height:normal;font-family:Menlo,'DejaVu Sans Mono',consolas,'Courier New',monospace\"><span style=\"color: #808000; text-decoration-color: #808000\">Portfolio Optimization Toolkit is disabled. To use the Optimization features please install the toolkit following the instructions here: https://my.openbb.co/app/sdk/installation</span>\n",
       "\n",
       "</pre>\n"
      ],
      "text/plain": [
       "\u001b[33mPortfolio Optimization Toolkit is disabled. To use the Optimization features please install the toolkit following the instructions here: https://my.openbb.co/app/sdk/installation\u001b[0m\n",
       "\n"
      ]
     },
     "metadata": {},
     "output_type": "display_data"
    },
    {
     "data": {
      "text/html": [
       "<pre style=\"white-space:pre;overflow-x:auto;line-height:normal;font-family:Menlo,'DejaVu Sans Mono',consolas,'Courier New',monospace\">\n",
       "<span style=\"color: #800000; text-decoration-color: #800000\">PyWry is not installed or missing required linux dependencies.</span>\n",
       "\n",
       "<span style=\"color: #808000; text-decoration-color: #808000\">Install PyWry</span>\n",
       "<span style=\"color: #008000; text-decoration-color: #008000\">pip install pywry --upgrade</span>\n",
       "\n",
       "<span style=\"color: #808000; text-decoration-color: #808000\">Platform-specific notes</span>\n",
       "Here is the underlying web engine each platform uses you might need to install.\n",
       "\n",
       "<span style=\"color: #008000; text-decoration-color: #008000\">Linux</span>\n",
       "Pywry uses gtk-rs and its related libraries for window creation and Wry also needs WebKitGTK for WebView.\n",
       "To activate interactive plots/tables in pywry window, please make sure the following packages are installed:\n",
       "\n",
       "<span style=\"color: #808000; text-decoration-color: #808000\">Arch Linux / Manjaro:</span>\n",
       "<span style=\"color: #008000; text-decoration-color: #008000\">sudo pacman -S webkit2gtk</span>\n",
       "\n",
       "<span style=\"color: #808000; text-decoration-color: #808000\">Debian / Ubuntu:</span>\n",
       "<span style=\"color: #008000; text-decoration-color: #008000\">sudo apt install libwebkit2gtk-</span><span style=\"color: #008000; text-decoration-color: #008000; font-weight: bold\">4.0</span><span style=\"color: #008000; text-decoration-color: #008000\">-dev</span>\n",
       "\n",
       "<span style=\"color: #808000; text-decoration-color: #808000\">Fedora / CentOS / AlmaLinux:</span>\n",
       "<span style=\"color: #008000; text-decoration-color: #008000\">sudo dnf install gtk3-devel webkit2gtk3-devel</span>\n",
       "\n",
       "</pre>\n"
      ],
      "text/plain": [
       "\n",
       "\u001b[31mPyWry is not installed or missing required linux dependencies.\u001b[0m\n",
       "\n",
       "\u001b[33mInstall PyWry\u001b[0m\n",
       "\u001b[32mpip install pywry --upgrade\u001b[0m\n",
       "\n",
       "\u001b[33mPlatform-specific notes\u001b[0m\n",
       "Here is the underlying web engine each platform uses you might need to install.\n",
       "\n",
       "\u001b[32mLinux\u001b[0m\n",
       "Pywry uses gtk-rs and its related libraries for window creation and Wry also needs WebKitGTK for WebView.\n",
       "To activate interactive plots/tables in pywry window, please make sure the following packages are installed:\n",
       "\n",
       "\u001b[33mArch Linux \u001b[0m\u001b[33m/\u001b[0m\u001b[33m Manjaro:\u001b[0m\n",
       "\u001b[32msudo pacman -S webkit2gtk\u001b[0m\n",
       "\n",
       "\u001b[33mDebian \u001b[0m\u001b[33m/\u001b[0m\u001b[33m Ubuntu:\u001b[0m\n",
       "\u001b[32msudo apt install libwebkit2gtk-\u001b[0m\u001b[1;32m4.0\u001b[0m\u001b[32m-dev\u001b[0m\n",
       "\n",
       "\u001b[33mFedora \u001b[0m\u001b[33m/\u001b[0m\u001b[33m CentOS \u001b[0m\u001b[33m/\u001b[0m\u001b[33m AlmaLinux:\u001b[0m\n",
       "\u001b[32msudo dnf install gtk3-devel webkit2gtk3-devel\u001b[0m\n",
       "\n"
      ]
     },
     "metadata": {},
     "output_type": "display_data"
    },
    {
     "data": {
      "text/html": [
       "<pre style=\"white-space:pre;overflow-x:auto;line-height:normal;font-family:Menlo,'DejaVu Sans Mono',consolas,'Courier New',monospace\">\n",
       "\n",
       "<span style=\"color: #808000; text-decoration-color: #808000\">Continuing with default plotly behaviour </span><span style=\"color: #808000; text-decoration-color: #808000; font-weight: bold\">(</span><span style=\"color: #808000; text-decoration-color: #808000\">open in browser</span><span style=\"color: #808000; text-decoration-color: #808000; font-weight: bold\">)</span><span style=\"color: #808000; text-decoration-color: #808000\">.</span>\n",
       "</pre>\n"
      ],
      "text/plain": [
       "\n",
       "\n",
       "\u001b[33mContinuing with default plotly behaviour \u001b[0m\u001b[1;33m(\u001b[0m\u001b[33mopen in browser\u001b[0m\u001b[1;33m)\u001b[0m\u001b[33m.\u001b[0m\n"
      ]
     },
     "metadata": {},
     "output_type": "display_data"
    },
    {
     "name": "stderr",
     "output_type": "stream",
     "text": [
      "INFO:openbb_terminal.loggers:Logging configuration finished\n",
      "INFO:openbb_terminal.loggers:Logging set to ['file', 'posthog']\n",
      "INFO:openbb_terminal.loggers:Verbosity set to 20\n",
      "INFO:openbb_terminal.loggers:LOGFORMAT: %(levelname)s-%(appName)s-%(commitHash)s-%(appId)s-%(sessionId)s-%(userId)s-%(asctime)s-%(name)s-%(funcName)s-%(lineno)s-%(message)s\n",
      "INFO:openbb_terminal.core.log.generation.settings_logger:STARTUP: {\"PREFERENCES\": {\"PLOT_BACKEND\": null, \"PLOT_DPI\": 100, \"PLOT_HEIGHT\": 500, \"PLOT_WIDTH\": 800, \"PLOT_HEIGHT_PERCENTAGE\": 50.0, \"PLOT_WIDTH_PERCENTAGE\": 70.0, \"PLOT_OPEN_EXPORT\": false, \"PLOT_ENABLE_PYWRY\": true, \"PLOT_PYWRY_WIDTH\": 1400, \"PLOT_PYWRY_HEIGHT\": 762, \"FILE_OVERWRITE\": false, \"SHOW_VERSION\": true, \"RETRY_WITH_LOAD\": false, \"USE_TABULATE_DF\": true, \"USE_INTERACTIVE_DF\": false, \"USE_CLEAR_AFTER_CMD\": false, \"USE_DATETIME\": true, \"USE_PROMPT_TOOLKIT\": true, \"USE_PLOT_AUTOSCALING\": false, \"ENABLE_THOUGHTS_DAY\": false, \"ENABLE_QUICK_EXIT\": false, \"OPEN_REPORT_AS_HTML\": true, \"ENABLE_EXIT_AUTO_HELP\": true, \"REMEMBER_CONTEXTS\": true, \"ENABLE_RICH_PANEL\": true, \"ENABLE_CHECK_API\": true, \"TOOLBAR_HINT\": true, \"PREVIOUS_USE\": false, \"TIMEZONE\": \"America/New_York\", \"FLAIR\": \":bug\", \"USE_LANGUAGE\": \"en\", \"REQUEST_TIMEOUT\": 5, \"MONITOR\": 0, \"MPL_STYLE\": \"dark\", \"PMF_STYLE\": \"dark\", \"RICH_STYLE\": \"dark\", \"CHART_STYLE\": \"dark\", \"TABLE_STYLE\": \"dark\", \"GUESS_EASTER_EGG_FILE\": \"//guess_game.json\", \"USER_DATA_SOURCES_FILE\": \"/home/hacker/OpenBBUserData/sources/sources.json\"}, \"KEYS\": {\"API_BINANCE_KEY\": \"not_defined\", \"API_BINANCE_SECRET\": \"not_defined\", \"API_BITQUERY_KEY\": \"not_defined\", \"API_BIZTOC_TOKEN\": \"not_defined\", \"API_CMC_KEY\": \"not_defined\", \"API_COINBASE_KEY\": \"not_defined\", \"API_COINBASE_PASS_PHRASE\": \"not_defined\", \"API_COINBASE_SECRET\": \"not_defined\", \"API_COINGLASS_KEY\": \"not_defined\", \"API_COMPANIESHOUSE_KEY\": \"not_defined\", \"API_CRYPTO_PANIC_KEY\": \"not_defined\", \"API_DAPPRADAR_KEY\": \"not_defined\", \"API_DATABENTO_KEY\": \"not_defined\", \"API_EODHD_KEY\": \"not_defined\", \"API_ETHPLORER_KEY\": \"not_defined\", \"API_FINNHUB_KEY\": \"not_defined\", \"API_FRED_KEY\": \"not_defined\", \"API_GITHUB_KEY\": \"not_defined\", \"API_GLASSNODE_KEY\": \"not_defined\", \"API_INTRINIO_KEY\": \"not_defined\", \"API_KEY_ALPHAVANTAGE\": \"not_defined\", \"API_KEY_FINANCIALMODELINGPREP\": \"not_defined\", \"API_KEY_NIXTLA\": \"not_defined\", \"API_KEY_QUANDL\": \"not_defined\", \"API_MESSARI_KEY\": \"not_defined\", \"API_NEWS_TOKEN\": \"not_defined\", \"API_OPENAI_KEY\": \"not_defined\", \"API_POLYGON_KEY\": \"not_defined\", \"API_REDDIT_CLIENT_ID\": \"not_defined\", \"API_REDDIT_CLIENT_SECRET\": \"not_defined\", \"API_REDDIT_PASSWORD\": \"not_defined\", \"API_REDDIT_USERNAME\": \"not_defined\", \"API_REDDIT_USER_AGENT\": \"not_defined\", \"API_SANTIMENT_KEY\": \"not_defined\", \"API_SHROOM_KEY\": \"not_defined\", \"API_SMARTSTAKE_KEY\": \"not_defined\", \"API_SMARTSTAKE_TOKEN\": \"not_defined\", \"API_STOCKSERA_KEY\": \"not_defined\", \"API_TOKEN_TERMINAL_KEY\": \"not_defined\", \"API_TRADIER_TOKEN\": \"not_defined\", \"API_TWITTER_BEARER_TOKEN\": \"not_defined\", \"API_TWITTER_KEY\": \"not_defined\", \"API_TWITTER_SECRET_KEY\": \"not_defined\", \"API_ULTIMA_KEY\": \"not_defined\", \"API_WHALE_ALERT_KEY\": \"not_defined\"}, \"SYSTEM\": {\"OS\": \"Linux\", \"PYTHON_VERSION\": \"3.10.12\", \"PLATFORM\": \"Linux-5.15.0-83-generic-x86_64-with-glibc2.35\", \"VERSION\": \"3.2.2\", \"LOGGING_APP_ID\": \"2154def7-745e-43a3-86db-33c4fd1c2ed3\", \"LOGGING_APP_NAME\": \"gst_packaged_pypi\", \"LOGGING_COMMIT_HASH\": \"unknown-commit\", \"LOGGING_BRANCH\": \"unknown-branch\", \"LOGGING_FREQUENCY\": \"H\", \"LOGGING_HANDLERS\": [\"file\", \"posthog\"], \"LOGGING_ROLLING_CLOCK\": false, \"LOGGING_VERBOSITY\": 20, \"LOGGING_SUB_APP\": \"sdk\", \"LOGGING_SUPPRESS\": false, \"LOGGING_SEND_TO_S3\": false, \"LOG_COLLECT\": true, \"DISABLE_STREAMLIT_WARNING\": false, \"DISABLE_FORECASTING_WARNING\": true, \"DISABLE_OPTIMIZATION_WARNING\": true, \"TEST_MODE\": false, \"DEBUG_MODE\": false, \"DEV_BACKEND\": false, \"ENABLE_AUTHENTICATION\": true, \"HEADLESS\": false}} \n",
      "INFO:openbb_terminal.core.session.sdk_session:START\n",
      "INFO:openbb_terminal.core.session.sdk_session:END\n"
     ]
    }
   ],
   "source": [
    "import numpy as np\n",
    "import pandas as pd\n",
    "import os\n",
    "import glob\n",
    "import pickle\n",
    "import json\n",
    "import sys\n",
    "import argparse\n",
    "from datetime import datetime, timedelta\n",
    "from scipy import stats\n",
    "from openbb_terminal.sdk import openbb"
   ]
  },
  {
   "cell_type": "code",
   "execution_count": 2,
   "metadata": {},
   "outputs": [],
   "source": [
    "config_dict = None\n",
    "config_file = f\"/app/config.json\"\n",
    "with open(config_file) as json_file:\n",
    "    config_dict = json.load(json_file)"
   ]
  },
  {
   "cell_type": "code",
   "execution_count": null,
   "metadata": {},
   "outputs": [],
   "source": [
    "def make_targets_all_symbols_02(start_date, end_date, config_dict):\n",
    "    '''\n",
    "    Function to return the complete dataframe for all symbols and all annual report date periods\n",
    "    '''\n",
    "    symbol_names = [os.path.basename(folder) for folder in glob.glob(os.path.join(config_dict['annual_reports_pdf_save_directory'], '*')) \\\n",
    "                            if os.path.isdir(folder)]\n",
    "    price_data_sp500 = openbb.stocks.load(\n",
    "        '^GSPC', start_date=start_date, end_date=end_date, \n",
    "        verbose=False)\n",
    "    full_df = pd.DataFrame()\n",
    "    #Iterate over all symbols in the directory\n",
    "    for i, symbol in enumerate(symbol_names):\n",
    "        df = make_targets(symbol, start_date, end_date, price_data_sp500, config_dict)\n",
    "        full_df = pd.concat([full_df, df], ignore_index=True)\n",
    "        print('Completed: {}/{}'.format(i+1, len(symbol_names)))\n",
    "    return full_df"
   ]
  },
  {
   "cell_type": "code",
   "execution_count": 4,
   "metadata": {},
   "outputs": [
    {
     "name": "stderr",
     "output_type": "stream",
     "text": [
      "INFO:openbb_terminal.stocks.stocks_helper:START\n",
      "INFO:openbb_terminal.stocks.stocks_helper:{\"INPUT\": {\"start_date\": \"2002-01-01\", \"interval\": \"1440\", \"end_date\": \"2023-12-31\", \"prepost\": \"False\", \"source\": \"YahooFinance\", \"weekly\": \"False\", \"monthly\": \"False\", \"verbose\": \"False\", \"symbol\": \"^GSPC\", \"chart\": \"False\"}, \"VIRTUAL_PATH\": \"stocks.load\", \"CHART\": false}\n",
      "INFO:openbb_terminal.stocks.stocks_helper:END\n"
     ]
    }
   ],
   "source": [
    "openbb.__version__\n",
    "start_date='2002-01-01'\n",
    "end_date='2023-12-31'\n",
    "price_data_sp500 = openbb.stocks.load(\n",
    "        '^GSPC', start_date=start_date, end_date=end_date, \n",
    "        verbose=False)"
   ]
  },
  {
   "cell_type": "code",
   "execution_count": 5,
   "metadata": {},
   "outputs": [
    {
     "data": {
      "text/html": [
       "<div>\n",
       "<style scoped>\n",
       "    .dataframe tbody tr th:only-of-type {\n",
       "        vertical-align: middle;\n",
       "    }\n",
       "\n",
       "    .dataframe tbody tr th {\n",
       "        vertical-align: top;\n",
       "    }\n",
       "\n",
       "    .dataframe thead th {\n",
       "        text-align: right;\n",
       "    }\n",
       "</style>\n",
       "<table border=\"1\" class=\"dataframe\">\n",
       "  <thead>\n",
       "    <tr style=\"text-align: right;\">\n",
       "      <th></th>\n",
       "      <th>Open</th>\n",
       "      <th>High</th>\n",
       "      <th>Low</th>\n",
       "      <th>Close</th>\n",
       "      <th>Adj Close</th>\n",
       "      <th>Volume</th>\n",
       "      <th>Dividends</th>\n",
       "      <th>Stock Splits</th>\n",
       "    </tr>\n",
       "    <tr>\n",
       "      <th>date</th>\n",
       "      <th></th>\n",
       "      <th></th>\n",
       "      <th></th>\n",
       "      <th></th>\n",
       "      <th></th>\n",
       "      <th></th>\n",
       "      <th></th>\n",
       "      <th></th>\n",
       "    </tr>\n",
       "  </thead>\n",
       "  <tbody>\n",
       "    <tr>\n",
       "      <th>2002-01-02</th>\n",
       "      <td>1148.079956</td>\n",
       "      <td>1154.670044</td>\n",
       "      <td>1136.229980</td>\n",
       "      <td>1154.670044</td>\n",
       "      <td>1154.670044</td>\n",
       "      <td>1171000000</td>\n",
       "      <td>0.0</td>\n",
       "      <td>0.0</td>\n",
       "    </tr>\n",
       "    <tr>\n",
       "      <th>2002-01-03</th>\n",
       "      <td>1154.670044</td>\n",
       "      <td>1165.270020</td>\n",
       "      <td>1154.010010</td>\n",
       "      <td>1165.270020</td>\n",
       "      <td>1165.270020</td>\n",
       "      <td>1398900000</td>\n",
       "      <td>0.0</td>\n",
       "      <td>0.0</td>\n",
       "    </tr>\n",
       "    <tr>\n",
       "      <th>2002-01-04</th>\n",
       "      <td>1165.270020</td>\n",
       "      <td>1176.550049</td>\n",
       "      <td>1163.420044</td>\n",
       "      <td>1172.510010</td>\n",
       "      <td>1172.510010</td>\n",
       "      <td>1513000000</td>\n",
       "      <td>0.0</td>\n",
       "      <td>0.0</td>\n",
       "    </tr>\n",
       "    <tr>\n",
       "      <th>2002-01-07</th>\n",
       "      <td>1172.510010</td>\n",
       "      <td>1176.969971</td>\n",
       "      <td>1163.550049</td>\n",
       "      <td>1164.890015</td>\n",
       "      <td>1164.890015</td>\n",
       "      <td>1308300000</td>\n",
       "      <td>0.0</td>\n",
       "      <td>0.0</td>\n",
       "    </tr>\n",
       "    <tr>\n",
       "      <th>2002-01-08</th>\n",
       "      <td>1164.890015</td>\n",
       "      <td>1167.599976</td>\n",
       "      <td>1157.459961</td>\n",
       "      <td>1160.709961</td>\n",
       "      <td>1160.709961</td>\n",
       "      <td>1258800000</td>\n",
       "      <td>0.0</td>\n",
       "      <td>0.0</td>\n",
       "    </tr>\n",
       "    <tr>\n",
       "      <th>...</th>\n",
       "      <td>...</td>\n",
       "      <td>...</td>\n",
       "      <td>...</td>\n",
       "      <td>...</td>\n",
       "      <td>...</td>\n",
       "      <td>...</td>\n",
       "      <td>...</td>\n",
       "      <td>...</td>\n",
       "    </tr>\n",
       "    <tr>\n",
       "      <th>2023-09-22</th>\n",
       "      <td>4341.740234</td>\n",
       "      <td>4357.399902</td>\n",
       "      <td>4316.490234</td>\n",
       "      <td>4320.060059</td>\n",
       "      <td>4320.060059</td>\n",
       "      <td>3349570000</td>\n",
       "      <td>0.0</td>\n",
       "      <td>0.0</td>\n",
       "    </tr>\n",
       "    <tr>\n",
       "      <th>2023-09-25</th>\n",
       "      <td>4310.620117</td>\n",
       "      <td>4338.509766</td>\n",
       "      <td>4302.700195</td>\n",
       "      <td>4337.439941</td>\n",
       "      <td>4337.439941</td>\n",
       "      <td>3195650000</td>\n",
       "      <td>0.0</td>\n",
       "      <td>0.0</td>\n",
       "    </tr>\n",
       "    <tr>\n",
       "      <th>2023-09-26</th>\n",
       "      <td>4312.879883</td>\n",
       "      <td>4313.009766</td>\n",
       "      <td>4265.979980</td>\n",
       "      <td>4273.529785</td>\n",
       "      <td>4273.529785</td>\n",
       "      <td>3472340000</td>\n",
       "      <td>0.0</td>\n",
       "      <td>0.0</td>\n",
       "    </tr>\n",
       "    <tr>\n",
       "      <th>2023-09-27</th>\n",
       "      <td>4282.629883</td>\n",
       "      <td>4292.069824</td>\n",
       "      <td>4238.629883</td>\n",
       "      <td>4274.509766</td>\n",
       "      <td>4274.509766</td>\n",
       "      <td>3875880000</td>\n",
       "      <td>0.0</td>\n",
       "      <td>0.0</td>\n",
       "    </tr>\n",
       "    <tr>\n",
       "      <th>2023-09-28</th>\n",
       "      <td>4269.649902</td>\n",
       "      <td>4317.270020</td>\n",
       "      <td>4264.379883</td>\n",
       "      <td>4299.700195</td>\n",
       "      <td>4299.700195</td>\n",
       "      <td>3846230000</td>\n",
       "      <td>0.0</td>\n",
       "      <td>0.0</td>\n",
       "    </tr>\n",
       "  </tbody>\n",
       "</table>\n",
       "<p>5473 rows × 8 columns</p>\n",
       "</div>"
      ],
      "text/plain": [
       "                   Open         High          Low        Close    Adj Close  \\\n",
       "date                                                                          \n",
       "2002-01-02  1148.079956  1154.670044  1136.229980  1154.670044  1154.670044   \n",
       "2002-01-03  1154.670044  1165.270020  1154.010010  1165.270020  1165.270020   \n",
       "2002-01-04  1165.270020  1176.550049  1163.420044  1172.510010  1172.510010   \n",
       "2002-01-07  1172.510010  1176.969971  1163.550049  1164.890015  1164.890015   \n",
       "2002-01-08  1164.890015  1167.599976  1157.459961  1160.709961  1160.709961   \n",
       "...                 ...          ...          ...          ...          ...   \n",
       "2023-09-22  4341.740234  4357.399902  4316.490234  4320.060059  4320.060059   \n",
       "2023-09-25  4310.620117  4338.509766  4302.700195  4337.439941  4337.439941   \n",
       "2023-09-26  4312.879883  4313.009766  4265.979980  4273.529785  4273.529785   \n",
       "2023-09-27  4282.629883  4292.069824  4238.629883  4274.509766  4274.509766   \n",
       "2023-09-28  4269.649902  4317.270020  4264.379883  4299.700195  4299.700195   \n",
       "\n",
       "                Volume  Dividends  Stock Splits  \n",
       "date                                             \n",
       "2002-01-02  1171000000        0.0           0.0  \n",
       "2002-01-03  1398900000        0.0           0.0  \n",
       "2002-01-04  1513000000        0.0           0.0  \n",
       "2002-01-07  1308300000        0.0           0.0  \n",
       "2002-01-08  1258800000        0.0           0.0  \n",
       "...                ...        ...           ...  \n",
       "2023-09-22  3349570000        0.0           0.0  \n",
       "2023-09-25  3195650000        0.0           0.0  \n",
       "2023-09-26  3472340000        0.0           0.0  \n",
       "2023-09-27  3875880000        0.0           0.0  \n",
       "2023-09-28  3846230000        0.0           0.0  \n",
       "\n",
       "[5473 rows x 8 columns]"
      ]
     },
     "execution_count": 5,
     "metadata": {},
     "output_type": "execute_result"
    }
   ],
   "source": [
    "price_data_sp500\n"
   ]
  },
  {
   "cell_type": "code",
   "execution_count": null,
   "metadata": {},
   "outputs": [],
   "source": [
    "\n",
    "start_date='2002-01-01'\n",
    "end_date='2023-12-31'\n",
    "targets_df = make_targets_all_symbols(start_date, end_date, config_dict)"
   ]
  }
 ],
 "metadata": {
  "kernelspec": {
   "display_name": "venv_make_targets",
   "language": "python",
   "name": "python3"
  },
  "language_info": {
   "codemirror_mode": {
    "name": "ipython",
    "version": 3
   },
   "file_extension": ".py",
   "mimetype": "text/x-python",
   "name": "python",
   "nbconvert_exporter": "python",
   "pygments_lexer": "ipython3",
   "version": "3.10.12"
  },
  "orig_nbformat": 4
 },
 "nbformat": 4,
 "nbformat_minor": 2
}
