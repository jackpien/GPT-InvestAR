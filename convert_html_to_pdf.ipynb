{
 "cells": [
  {
   "cell_type": "code",
   "execution_count": 1,
   "metadata": {},
   "outputs": [],
   "source": [
    "import pdfkit\n",
    "import glob\n",
    "import os\n",
    "import json\n",
    "import argparse\n",
    "import sys\n",
    "import pickle\n",
    "import pandas as pd\n",
    "import convert_html_to_pdf"
   ]
  },
  {
   "cell_type": "markdown",
   "metadata": {},
   "source": [
    "__sudo apt-get install wkhtmltopdf__ is needed"
   ]
  },
  {
   "cell_type": "code",
   "execution_count": 2,
   "metadata": {},
   "outputs": [],
   "source": [
    "config_dict = None\n",
    "config_file = f\"/app/config.json\"\n",
    "with open(config_file) as json_file:\n",
    "    config_dict = json.load(json_file)"
   ]
  },
  {
   "cell_type": "code",
   "execution_count": 3,
   "metadata": {},
   "outputs": [],
   "source": [
    "# Get dataframe of tickers we care about\n",
    "all_10k_df = None\n",
    "with open(config_dict[\"10k_df_pkl_pathfn\"], \"rb\") as f:\n",
    "    all_10k_df = pickle.load(f)"
   ]
  },
  {
   "cell_type": "code",
   "execution_count": 4,
   "metadata": {},
   "outputs": [
    {
     "name": "stdout",
     "output_type": "stream",
     "text": [
      "/app/data/10k_html/NVDA/2023-01-29.htm -> /app/data/10k_pdf/NVDA/2023-01-29.pdf\n",
      "/app/data/10k_html/NVDA/2022-01-30.htm -> /app/data/10k_pdf/NVDA/2022-01-30.pdf\n",
      "/app/data/10k_html/NVDA/2021-01-31.htm -> /app/data/10k_pdf/NVDA/2021-01-31.pdf\n",
      "/app/data/10k_html/NVDA/2020-01-26.htm -> /app/data/10k_pdf/NVDA/2020-01-26.pdf\n",
      "/app/data/10k_html/NVDA/2019-01-27.htm -> /app/data/10k_pdf/NVDA/2019-01-27.pdf\n",
      "/app/data/10k_html/NVDA/2018-01-28.htm -> /app/data/10k_pdf/NVDA/2018-01-28.pdf\n",
      "/app/data/10k_html/NVDA/2017-01-29.htm -> /app/data/10k_pdf/NVDA/2017-01-29.pdf\n",
      "/app/data/10k_html/NVDA/2016-01-31.htm -> /app/data/10k_pdf/NVDA/2016-01-31.pdf\n",
      "/app/data/10k_html/NVDA/2015-01-25.htm -> /app/data/10k_pdf/NVDA/2015-01-25.pdf\n",
      "/app/data/10k_html/NVDA/2014-01-26.htm -> /app/data/10k_pdf/NVDA/2014-01-26.pdf\n",
      "/app/data/10k_html/NVDA/2013-01-27.htm -> /app/data/10k_pdf/NVDA/2013-01-27.pdf\n",
      "/app/data/10k_html/NVDA/2012-01-29.htm -> /app/data/10k_pdf/NVDA/2012-01-29.pdf\n",
      "/app/data/10k_html/NVDA/2011-01-30.htm -> /app/data/10k_pdf/NVDA/2011-01-30.pdf\n",
      "/app/data/10k_html/NVDA/2010-01-31.htm -> /app/data/10k_pdf/NVDA/2010-01-31.pdf\n",
      "/app/data/10k_html/NVDA/2009-01-25.htm -> /app/data/10k_pdf/NVDA/2009-01-25.pdf\n",
      "/app/data/10k_html/NVDA/2008-03-21.htm -> /app/data/10k_pdf/NVDA/2008-03-21.pdf\n",
      "/app/data/10k_html/NVDA/2007-01-28.htm -> /app/data/10k_pdf/NVDA/2007-01-28.pdf\n",
      "/app/data/10k_html/NVDA/2006-01-29.htm -> /app/data/10k_pdf/NVDA/2006-01-29.pdf\n",
      "/app/data/10k_html/NVDA/2005-01-30.htm -> /app/data/10k_pdf/NVDA/2005-01-30.pdf\n",
      "/app/data/10k_html/NVDA/2004-01-25.htm -> /app/data/10k_pdf/NVDA/2004-01-25.pdf\n",
      "/app/data/10k_html/NVDA/2003-01-26.htm -> /app/data/10k_pdf/NVDA/2003-01-26.pdf\n",
      "/app/data/10k_html/NVDA/2002-01-27.htm -> /app/data/10k_pdf/NVDA/2002-01-27.pdf\n",
      "/app/data/10k_html/INTC/2022-12-31.htm -> /app/data/10k_pdf/INTC/2022-12-31.pdf\n",
      "/app/data/10k_html/INTC/2021-12-25.htm -> /app/data/10k_pdf/INTC/2021-12-25.pdf\n",
      "/app/data/10k_html/INTC/2020-12-26.htm -> /app/data/10k_pdf/INTC/2020-12-26.pdf\n",
      "/app/data/10k_html/INTC/2019-12-28.htm -> /app/data/10k_pdf/INTC/2019-12-28.pdf\n",
      "/app/data/10k_html/INTC/2018-12-29.htm -> /app/data/10k_pdf/INTC/2018-12-29.pdf\n",
      "/app/data/10k_html/INTC/2017-12-30.htm -> /app/data/10k_pdf/INTC/2017-12-30.pdf\n",
      "/app/data/10k_html/INTC/2016-12-31.htm -> /app/data/10k_pdf/INTC/2016-12-31.pdf\n",
      "/app/data/10k_html/INTC/2015-12-26.htm -> /app/data/10k_pdf/INTC/2015-12-26.pdf\n",
      "/app/data/10k_html/INTC/2014-12-27.htm -> /app/data/10k_pdf/INTC/2014-12-27.pdf\n",
      "/app/data/10k_html/INTC/2013-12-28.htm -> /app/data/10k_pdf/INTC/2013-12-28.pdf\n",
      "/app/data/10k_html/INTC/2012-12-29.htm -> /app/data/10k_pdf/INTC/2012-12-29.pdf\n",
      "/app/data/10k_html/INTC/2011-12-31.htm -> /app/data/10k_pdf/INTC/2011-12-31.pdf\n",
      "/app/data/10k_html/INTC/2010-12-25.htm -> /app/data/10k_pdf/INTC/2010-12-25.pdf\n",
      "/app/data/10k_html/INTC/2009-12-26.htm -> /app/data/10k_pdf/INTC/2009-12-26.pdf\n",
      "/app/data/10k_html/INTC/2008-12-27.htm -> /app/data/10k_pdf/INTC/2008-12-27.pdf\n",
      "/app/data/10k_html/INTC/2007-12-29.htm -> /app/data/10k_pdf/INTC/2007-12-29.pdf\n",
      "/app/data/10k_html/INTC/2006-12-30.htm -> /app/data/10k_pdf/INTC/2006-12-30.pdf\n",
      "/app/data/10k_html/INTC/2005-12-31.htm -> /app/data/10k_pdf/INTC/2005-12-31.pdf\n",
      "/app/data/10k_html/INTC/2004-12-25.htm -> /app/data/10k_pdf/INTC/2004-12-25.pdf\n",
      "/app/data/10k_html/INTC/2003-12-27.htm -> /app/data/10k_pdf/INTC/2003-12-27.pdf\n",
      "/app/data/10k_html/INTC/2002-12-28.htm -> /app/data/10k_pdf/INTC/2002-12-28.pdf\n",
      "/app/data/10k_html/INTC/2001-12-29.htm -> /app/data/10k_pdf/INTC/2001-12-29.pdf\n",
      "/app/data/10k_html/INTC/2000-12-30.htm -> /app/data/10k_pdf/INTC/2000-12-30.pdf\n"
     ]
    }
   ],
   "source": [
    "def html_to_pdf(row):\n",
    "    html_fn = row[\"savePath10kHtml\"]\n",
    "    ticker = row[\"ticker\"]\n",
    "\n",
    "    pdf_path = os.path.join(\n",
    "        config_dict['annual_reports_pdf_save_directory'], \n",
    "        row[\"ticker\"])\n",
    "    \n",
    "\n",
    "    if not os.path.exists(pdf_path):\n",
    "        os.makedirs(pdf_path)\n",
    "\n",
    "    pdf_fn = f'{pdf_path}/{row[\"reportDate\"]}.pdf'\n",
    "\n",
    "    print(f\"{html_fn} -> {pdf_fn}\")\n",
    "    convert_html_to_pdf.convert_html_to_pdf(html_fn, pdf_fn)\n",
    "\n",
    "    return pdf_fn\n",
    "\n",
    "\n",
    "rval = all_10k_df.apply(html_to_pdf, axis=1)\n",
    "\n",
    "# Put location of where we saved the HTML files into the dataframe\n",
    "all_10k_df = all_10k_df.assign(savePath10kPdf=rval)"
   ]
  },
  {
   "cell_type": "code",
   "execution_count": 5,
   "metadata": {},
   "outputs": [],
   "source": [
    "all_10k_df.to_pickle(\n",
    "    os.path.join(\n",
    "        config_dict[\"10k_df_pkl_pathfn\"]))"
   ]
  },
  {
   "cell_type": "code",
   "execution_count": null,
   "metadata": {},
   "outputs": [],
   "source": []
  }
 ],
 "metadata": {
  "kernelspec": {
   "display_name": "venv_convert_to_pdf",
   "language": "python",
   "name": "python3"
  },
  "language_info": {
   "codemirror_mode": {
    "name": "ipython",
    "version": 3
   },
   "file_extension": ".py",
   "mimetype": "text/x-python",
   "name": "python",
   "nbconvert_exporter": "python",
   "pygments_lexer": "ipython3",
   "version": "3.10.12"
  },
  "orig_nbformat": 4
 },
 "nbformat": 4,
 "nbformat_minor": 2
}
