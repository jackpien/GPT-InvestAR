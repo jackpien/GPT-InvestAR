{
 "cells": [
  {
   "cell_type": "markdown",
   "metadata": {},
   "source": [
    "# How to set up this notebook\n",
    "\n",
    "We can use the venv from embeddings save!!\n",
    "\n",
    "```\n",
    "python3 -m venv venv_embeddings_save\n",
    "pip install -r requirements_embeddings_save.txt\n",
    "```"
   ]
  },
  {
   "cell_type": "code",
   "execution_count": 1,
   "metadata": {},
   "outputs": [],
   "source": [
    "import pandas as pd\n",
    "import sys\n",
    "import argparse\n",
    "import os\n",
    "import json\n",
    "import pickle\n",
    "import glob\n",
    "import time\n",
    "from datetime import datetime\n",
    "import openai\n",
    "from dotenv import load_dotenv\n",
    "from llama_index import VectorStoreIndex\n",
    "from llama_index.llms import OpenAI\n",
    "from llama_index import ServiceContext, LangchainEmbedding\n",
    "from llama_index.vector_stores import ChromaVectorStore\n",
    "from langchain.embeddings.huggingface import HuggingFaceEmbeddings\n",
    "import chromadb\n",
    "from langchain.prompts.chat import (\n",
    "    ChatPromptTemplate,\n",
    "    HumanMessagePromptTemplate,\n",
    "    SystemMessagePromptTemplate,\n",
    ")\n",
    "from llama_index.prompts import Prompt"
   ]
  },
  {
   "cell_type": "code",
   "execution_count": 4,
   "metadata": {},
   "outputs": [],
   "source": [
    "from gpt_scores_as_features import (\n",
    "    load_target_dfs\n",
    ")"
   ]
  },
  {
   "cell_type": "code",
   "execution_count": 2,
   "metadata": {},
   "outputs": [],
   "source": [
    "config_dict = None\n",
    "config_file = f\"/app/config.json\"\n",
    "with open(config_file) as json_file:\n",
    "    config_dict = json.load(json_file)"
   ]
  },
  {
   "cell_type": "code",
   "execution_count": 3,
   "metadata": {},
   "outputs": [],
   "source": [
    "questions_dict = None\n",
    "questions_file = \"/app/questions.json\"\n",
    "with open(questions_file) as json_file:\n",
    "    questions_dict = json.load(json_file)"
   ]
  },
  {
   "cell_type": "code",
   "execution_count": 5,
   "metadata": {},
   "outputs": [],
   "source": [
    "\n",
    "df_train, df_test = load_target_dfs(config_dict)"
   ]
  },
  {
   "cell_type": "code",
   "execution_count": 6,
   "metadata": {},
   "outputs": [],
   "source": [
    "def initialize_and_return_models_02(config_dict):\n",
    "    os.environ[\"OPENAI_API_KEY\"] = config_dict['openai_api_key']\n",
    "    load_dotenv(\".env\")\n",
    "    openai.api_key=os.getenv('OPENAI_API_KEY')\n",
    "    llm = OpenAI(model='gpt-3.5-turbo', temperature=0.5)\n",
    "    embedding_model = LangchainEmbedding(\n",
    "        HuggingFaceEmbeddings(model_name=\"sentence-transformers/all-mpnet-base-v2\")\n",
    "    )\n",
    "    return llm, embedding_model"
   ]
  },
  {
   "cell_type": "code",
   "execution_count": 7,
   "metadata": {},
   "outputs": [
    {
     "name": "stderr",
     "output_type": "stream",
     "text": [
      "/app/venv_embeddings_save/lib/python3.10/site-packages/tqdm/auto.py:21: TqdmWarning: IProgress not found. Please update jupyter and ipywidgets. See https://ipywidgets.readthedocs.io/en/stable/user_install.html\n",
      "  from .autonotebook import tqdm as notebook_tqdm\n"
     ]
    }
   ],
   "source": [
    "\n",
    "llm, embedding_model = initialize_and_return_models_02(config_dict)"
   ]
  },
  {
   "cell_type": "code",
   "execution_count": null,
   "metadata": {},
   "outputs": [],
   "source": []
  }
 ],
 "metadata": {
  "kernelspec": {
   "display_name": "venv_embeddings_save",
   "language": "python",
   "name": "python3"
  },
  "language_info": {
   "codemirror_mode": {
    "name": "ipython",
    "version": 3
   },
   "file_extension": ".py",
   "mimetype": "text/x-python",
   "name": "python",
   "nbconvert_exporter": "python",
   "pygments_lexer": "ipython3",
   "version": "3.10.12"
  },
  "orig_nbformat": 4
 },
 "nbformat": 4,
 "nbformat_minor": 2
}
